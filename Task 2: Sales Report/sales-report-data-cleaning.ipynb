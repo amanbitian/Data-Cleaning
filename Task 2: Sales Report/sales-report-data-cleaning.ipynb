{
 "cells": [
  {
   "cell_type": "code",
   "execution_count": 1,
   "id": "3f47731c",
   "metadata": {
    "_cell_guid": "b1076dfc-b9ad-4769-8c92-a6c4dae69d19",
    "_uuid": "8f2839f25d086af736a60e9eeb907d3b93b6e0e5",
    "execution": {
     "iopub.execute_input": "2021-10-06T23:49:01.635724Z",
     "iopub.status.busy": "2021-10-06T23:49:01.633670Z",
     "iopub.status.idle": "2021-10-06T23:49:02.634746Z",
     "shell.execute_reply": "2021-10-06T23:49:02.633851Z",
     "shell.execute_reply.started": "2021-10-06T23:48:05.066255Z"
    },
    "papermill": {
     "duration": 1.024425,
     "end_time": "2021-10-06T23:49:02.634937",
     "exception": false,
     "start_time": "2021-10-06T23:49:01.610512",
     "status": "completed"
    },
    "tags": []
   },
   "outputs": [
    {
     "name": "stdout",
     "output_type": "stream",
     "text": [
      "/kaggle/input/sales-performance-report-dqlab-store/clean_data.csv\n",
      "/kaggle/input/sales-performance-report-dqlab-store/raw_data.csv\n"
     ]
    }
   ],
   "source": [
    "import numpy as np # linear algebra\n",
    "import pandas as pd # data processing, CSV file I/O (e.g. pd.read_csv)\n",
    "\n",
    "import os\n",
    "for dirname, _, filenames in os.walk('/kaggle/input'):\n",
    "    for filename in filenames:\n",
    "        print(os.path.join(dirname, filename))\n",
    "\n",
    "import matplotlib.pyplot as plt\n",
    "import seaborn as sns"
   ]
  },
  {
   "cell_type": "code",
   "execution_count": 2,
   "id": "36406eb0",
   "metadata": {
    "execution": {
     "iopub.execute_input": "2021-10-06T23:49:02.676288Z",
     "iopub.status.busy": "2021-10-06T23:49:02.675522Z",
     "iopub.status.idle": "2021-10-06T23:49:02.749755Z",
     "shell.execute_reply": "2021-10-06T23:49:02.749073Z",
     "shell.execute_reply.started": "2021-10-06T23:48:05.463092Z"
    },
    "papermill": {
     "duration": 0.096828,
     "end_time": "2021-10-06T23:49:02.749920",
     "exception": false,
     "start_time": "2021-10-06T23:49:02.653092",
     "status": "completed"
    },
    "tags": []
   },
   "outputs": [
    {
     "data": {
      "text/html": [
       "<div>\n",
       "<style scoped>\n",
       "    .dataframe tbody tr th:only-of-type {\n",
       "        vertical-align: middle;\n",
       "    }\n",
       "\n",
       "    .dataframe tbody tr th {\n",
       "        vertical-align: top;\n",
       "    }\n",
       "\n",
       "    .dataframe thead th {\n",
       "        text-align: right;\n",
       "    }\n",
       "</style>\n",
       "<table border=\"1\" class=\"dataframe\">\n",
       "  <thead>\n",
       "    <tr style=\"text-align: right;\">\n",
       "      <th></th>\n",
       "      <th>order_id | order_status    | customer               | order_date | order_quantity | sales     | discount | discount_value | product_category | product_sub_category           |</th>\n",
       "    </tr>\n",
       "  </thead>\n",
       "  <tbody>\n",
       "    <tr>\n",
       "      <th>0</th>\n",
       "      <td>+----------+-----------------+----------------...</td>\n",
       "    </tr>\n",
       "    <tr>\n",
       "      <th>1</th>\n",
       "      <td>|        3 | Order Finished  | Muhammed MacInt...</td>\n",
       "    </tr>\n",
       "    <tr>\n",
       "      <th>2</th>\n",
       "      <td>|      293 | Order Finished  | Barry French   ...</td>\n",
       "    </tr>\n",
       "    <tr>\n",
       "      <th>3</th>\n",
       "      <td>|      483 | Order Finished  | Clay Rozendal  ...</td>\n",
       "    </tr>\n",
       "    <tr>\n",
       "      <th>4</th>\n",
       "      <td>|      515 | Order Finished  | Carlos Soltero ...</td>\n",
       "    </tr>\n",
       "    <tr>\n",
       "      <th>...</th>\n",
       "      <td>...</td>\n",
       "    </tr>\n",
       "    <tr>\n",
       "      <th>5496</th>\n",
       "      <td>|    52706 | Order Finished  | Paul Prost     ...</td>\n",
       "    </tr>\n",
       "    <tr>\n",
       "      <th>5497</th>\n",
       "      <td>|    54279 | Order Finished  | Lisa DeCherney ...</td>\n",
       "    </tr>\n",
       "    <tr>\n",
       "      <th>5498</th>\n",
       "      <td>|    55558 | Order Finished  | Philip Brown   ...</td>\n",
       "    </tr>\n",
       "    <tr>\n",
       "      <th>5499</th>\n",
       "      <td>|    56581 | Order Finished  | Lisa DeCherney ...</td>\n",
       "    </tr>\n",
       "    <tr>\n",
       "      <th>5500</th>\n",
       "      <td>+----------+-----------------+----------------...</td>\n",
       "    </tr>\n",
       "  </tbody>\n",
       "</table>\n",
       "<p>5501 rows × 1 columns</p>\n",
       "</div>"
      ],
      "text/plain": [
       "      order_id | order_status    | customer               | order_date | order_quantity | sales     | discount | discount_value | product_category | product_sub_category           |\n",
       "0     +----------+-----------------+----------------...                                                                                                                              \n",
       "1     |        3 | Order Finished  | Muhammed MacInt...                                                                                                                              \n",
       "2     |      293 | Order Finished  | Barry French   ...                                                                                                                              \n",
       "3     |      483 | Order Finished  | Clay Rozendal  ...                                                                                                                              \n",
       "4     |      515 | Order Finished  | Carlos Soltero ...                                                                                                                              \n",
       "...                                                 ...                                                                                                                              \n",
       "5496  |    52706 | Order Finished  | Paul Prost     ...                                                                                                                              \n",
       "5497  |    54279 | Order Finished  | Lisa DeCherney ...                                                                                                                              \n",
       "5498  |    55558 | Order Finished  | Philip Brown   ...                                                                                                                              \n",
       "5499  |    56581 | Order Finished  | Lisa DeCherney ...                                                                                                                              \n",
       "5500  +----------+-----------------+----------------...                                                                                                                              \n",
       "\n",
       "[5501 rows x 1 columns]"
      ]
     },
     "execution_count": 2,
     "metadata": {},
     "output_type": "execute_result"
    }
   ],
   "source": [
    "raw= pd.read_csv('/kaggle/input/sales-performance-report-dqlab-store/raw_data.csv')\n",
    "raw"
   ]
  },
  {
   "cell_type": "code",
   "execution_count": 3,
   "id": "250d249d",
   "metadata": {
    "execution": {
     "iopub.execute_input": "2021-10-06T23:49:02.789801Z",
     "iopub.status.busy": "2021-10-06T23:49:02.789023Z",
     "iopub.status.idle": "2021-10-06T23:49:02.794850Z",
     "shell.execute_reply": "2021-10-06T23:49:02.795554Z",
     "shell.execute_reply.started": "2021-10-06T23:48:05.506237Z"
    },
    "papermill": {
     "duration": 0.027843,
     "end_time": "2021-10-06T23:49:02.795760",
     "exception": false,
     "start_time": "2021-10-06T23:49:02.767917",
     "status": "completed"
    },
    "tags": []
   },
   "outputs": [
    {
     "data": {
      "text/plain": [
       "Index([' order_id | order_status    | customer               | order_date | order_quantity | sales     | discount | discount_value | product_category | product_sub_category           |'], dtype='object')"
      ]
     },
     "execution_count": 3,
     "metadata": {},
     "output_type": "execute_result"
    }
   ],
   "source": [
    "raw.columns"
   ]
  },
  {
   "cell_type": "code",
   "execution_count": 4,
   "id": "5268c10d",
   "metadata": {
    "execution": {
     "iopub.execute_input": "2021-10-06T23:49:02.835846Z",
     "iopub.status.busy": "2021-10-06T23:49:02.835176Z",
     "iopub.status.idle": "2021-10-06T23:49:02.845147Z",
     "shell.execute_reply": "2021-10-06T23:49:02.845803Z",
     "shell.execute_reply.started": "2021-10-06T23:48:05.513916Z"
    },
    "papermill": {
     "duration": 0.032255,
     "end_time": "2021-10-06T23:49:02.846003",
     "exception": false,
     "start_time": "2021-10-06T23:49:02.813748",
     "status": "completed"
    },
    "tags": []
   },
   "outputs": [
    {
     "data": {
      "text/plain": [
       "0       +----------+-----------------+----------------...\n",
       "1       |        3 | Order Finished  | Muhammed MacInt...\n",
       "2       |      293 | Order Finished  | Barry French   ...\n",
       "3       |      483 | Order Finished  | Clay Rozendal  ...\n",
       "4       |      515 | Order Finished  | Carlos Soltero ...\n",
       "                              ...                        \n",
       "5496    |    52706 | Order Finished  | Paul Prost     ...\n",
       "5497    |    54279 | Order Finished  | Lisa DeCherney ...\n",
       "5498    |    55558 | Order Finished  | Philip Brown   ...\n",
       "5499    |    56581 | Order Finished  | Lisa DeCherney ...\n",
       "5500    +----------+-----------------+----------------...\n",
       "Name:  order_id | order_status    | customer               | order_date | order_quantity | sales     | discount | discount_value | product_category | product_sub_category           |, Length: 5501, dtype: object"
      ]
     },
     "execution_count": 4,
     "metadata": {},
     "output_type": "execute_result"
    }
   ],
   "source": [
    "raw[' order_id | order_status    | customer               | order_date | order_quantity | sales     | discount | discount_value | product_category | product_sub_category           |']"
   ]
  },
  {
   "cell_type": "markdown",
   "id": "738fa47c",
   "metadata": {
    "papermill": {
     "duration": 0.018175,
     "end_time": "2021-10-06T23:49:02.882550",
     "exception": false,
     "start_time": "2021-10-06T23:49:02.864375",
     "status": "completed"
    },
    "tags": []
   },
   "source": [
    "###  Ok we can see this has a strange column name with odd spacing and all, So I am thinking to `store this in new df` for my ease"
   ]
  },
  {
   "cell_type": "code",
   "execution_count": 5,
   "id": "2382a482",
   "metadata": {
    "execution": {
     "iopub.execute_input": "2021-10-06T23:49:02.928485Z",
     "iopub.status.busy": "2021-10-06T23:49:02.927723Z",
     "iopub.status.idle": "2021-10-06T23:49:02.938649Z",
     "shell.execute_reply": "2021-10-06T23:49:02.938027Z",
     "shell.execute_reply.started": "2021-10-06T23:48:05.530672Z"
    },
    "papermill": {
     "duration": 0.037671,
     "end_time": "2021-10-06T23:49:02.938812",
     "exception": false,
     "start_time": "2021-10-06T23:49:02.901141",
     "status": "completed"
    },
    "tags": []
   },
   "outputs": [
    {
     "data": {
      "text/html": [
       "<div>\n",
       "<style scoped>\n",
       "    .dataframe tbody tr th:only-of-type {\n",
       "        vertical-align: middle;\n",
       "    }\n",
       "\n",
       "    .dataframe tbody tr th {\n",
       "        vertical-align: top;\n",
       "    }\n",
       "\n",
       "    .dataframe thead th {\n",
       "        text-align: right;\n",
       "    }\n",
       "</style>\n",
       "<table border=\"1\" class=\"dataframe\">\n",
       "  <thead>\n",
       "    <tr style=\"text-align: right;\">\n",
       "      <th></th>\n",
       "      <th>Order_id</th>\n",
       "    </tr>\n",
       "  </thead>\n",
       "  <tbody>\n",
       "    <tr>\n",
       "      <th>0</th>\n",
       "      <td>+----------+-----------------+----------------...</td>\n",
       "    </tr>\n",
       "    <tr>\n",
       "      <th>1</th>\n",
       "      <td>|        3 | Order Finished  | Muhammed MacInt...</td>\n",
       "    </tr>\n",
       "    <tr>\n",
       "      <th>2</th>\n",
       "      <td>|      293 | Order Finished  | Barry French   ...</td>\n",
       "    </tr>\n",
       "    <tr>\n",
       "      <th>3</th>\n",
       "      <td>|      483 | Order Finished  | Clay Rozendal  ...</td>\n",
       "    </tr>\n",
       "    <tr>\n",
       "      <th>4</th>\n",
       "      <td>|      515 | Order Finished  | Carlos Soltero ...</td>\n",
       "    </tr>\n",
       "  </tbody>\n",
       "</table>\n",
       "</div>"
      ],
      "text/plain": [
       "                                            Order_id\n",
       "0  +----------+-----------------+----------------...\n",
       "1  |        3 | Order Finished  | Muhammed MacInt...\n",
       "2  |      293 | Order Finished  | Barry French   ...\n",
       "3  |      483 | Order Finished  | Clay Rozendal  ...\n",
       "4  |      515 | Order Finished  | Carlos Soltero ..."
      ]
     },
     "execution_count": 5,
     "metadata": {},
     "output_type": "execute_result"
    }
   ],
   "source": [
    "df=pd.DataFrame()\n",
    "df['Order_id']=raw[' order_id | order_status    | customer               | order_date | order_quantity | sales     | discount | discount_value | product_category | product_sub_category           |']\n",
    "df.head()"
   ]
  },
  {
   "cell_type": "code",
   "execution_count": 6,
   "id": "954cce28",
   "metadata": {
    "execution": {
     "iopub.execute_input": "2021-10-06T23:49:02.980268Z",
     "iopub.status.busy": "2021-10-06T23:49:02.979571Z",
     "iopub.status.idle": "2021-10-06T23:49:02.987203Z",
     "shell.execute_reply": "2021-10-06T23:49:02.986519Z",
     "shell.execute_reply.started": "2021-10-06T23:48:05.547689Z"
    },
    "papermill": {
     "duration": 0.029696,
     "end_time": "2021-10-06T23:49:02.987358",
     "exception": false,
     "start_time": "2021-10-06T23:49:02.957662",
     "status": "completed"
    },
    "tags": []
   },
   "outputs": [
    {
     "name": "stdout",
     "output_type": "stream",
     "text": [
      "2    |      293 | Order Finished  | Barry French   ...\n",
      "Name: Order_id, dtype: object\n"
     ]
    }
   ],
   "source": [
    "print(df['Order_id'][2:3])"
   ]
  },
  {
   "cell_type": "code",
   "execution_count": 7,
   "id": "266b9f1b",
   "metadata": {
    "execution": {
     "iopub.execute_input": "2021-10-06T23:49:03.031620Z",
     "iopub.status.busy": "2021-10-06T23:49:03.029266Z",
     "iopub.status.idle": "2021-10-06T23:49:03.036682Z",
     "shell.execute_reply": "2021-10-06T23:49:03.037271Z",
     "shell.execute_reply.started": "2021-10-06T23:48:05.557030Z"
    },
    "papermill": {
     "duration": 0.030697,
     "end_time": "2021-10-06T23:49:03.037486",
     "exception": false,
     "start_time": "2021-10-06T23:49:03.006789",
     "status": "completed"
    },
    "tags": []
   },
   "outputs": [],
   "source": [
    "### Droping 1st index as it has data different than rest of data set\n",
    "\n",
    "df.drop(0, axis=0, inplace=True)"
   ]
  },
  {
   "cell_type": "code",
   "execution_count": 8,
   "id": "2e76fa45",
   "metadata": {
    "execution": {
     "iopub.execute_input": "2021-10-06T23:49:03.093317Z",
     "iopub.status.busy": "2021-10-06T23:49:03.081192Z",
     "iopub.status.idle": "2021-10-06T23:49:03.096519Z",
     "shell.execute_reply": "2021-10-06T23:49:03.097095Z",
     "shell.execute_reply.started": "2021-10-06T23:48:05.569419Z"
    },
    "papermill": {
     "duration": 0.038831,
     "end_time": "2021-10-06T23:49:03.097314",
     "exception": false,
     "start_time": "2021-10-06T23:49:03.058483",
     "status": "completed"
    },
    "tags": []
   },
   "outputs": [
    {
     "data": {
      "text/plain": [
       "1    [,         3 | Order Finished  | Muhammed MacI...\n",
       "2    [,       293 | Order Finished  | Barry French ...\n",
       "3    [,       483 | Order Finished  | Clay Rozendal...\n",
       "4    [,       515 | Order Finished  | Carlos Solter...\n",
       "5    [,       613 | Order Finished  | Carl Jackson ...\n",
       "Name: Order_id, dtype: object"
      ]
     },
     "execution_count": 8,
     "metadata": {},
     "output_type": "execute_result"
    }
   ],
   "source": [
    "df['Order_id'].str.split('|',1).head()"
   ]
  },
  {
   "cell_type": "markdown",
   "id": "d4e36a87",
   "metadata": {
    "papermill": {
     "duration": 0.019225,
     "end_time": "2021-10-06T23:49:03.136126",
     "exception": false,
     "start_time": "2021-10-06T23:49:03.116901",
     "status": "completed"
    },
    "tags": []
   },
   "source": [
    "#### Did u sea when we set n=1 we surpass 1 delimiter so lets try 10 as we know there are 10 columns\n",
    "\n",
    "* Series.str.split(pat=None, n=- 1, expand=False)\n",
    "Splits the string in the Series/Index from the beginning, at the specified `delimiter string`. Equivalent to str.split().  \n",
    "* **pat**: str, optional\n",
    "    String or regular expression to split on. If not specified, split on whitespace.\n",
    "\n",
    "* **n**: int, default -1 (all)\n",
    "    Limit number of splits in output. None, 0 and -1 will be interpreted as return all splits.\n",
    "\n",
    "* **expand**: bool, default False\n",
    "    > Expand the split strings into separate columns.\n",
    "        If **True**, return DataFrame/MultiIndex **expanding dimensionality**.\n",
    "        If **False**, return Series/Index, containing lists of strings.\n",
    "\n",
    "**Returns**\n",
    "Series, Index, DataFrame or MultiIndex  \n",
    "Type matches caller unless expand=True   "
   ]
  },
  {
   "cell_type": "code",
   "execution_count": 9,
   "id": "253b8dea",
   "metadata": {
    "execution": {
     "iopub.execute_input": "2021-10-06T23:49:03.179321Z",
     "iopub.status.busy": "2021-10-06T23:49:03.178641Z",
     "iopub.status.idle": "2021-10-06T23:49:03.221974Z",
     "shell.execute_reply": "2021-10-06T23:49:03.222927Z",
     "shell.execute_reply.started": "2021-10-06T23:48:05.592688Z"
    },
    "papermill": {
     "duration": 0.06731,
     "end_time": "2021-10-06T23:49:03.223277",
     "exception": false,
     "start_time": "2021-10-06T23:49:03.155967",
     "status": "completed"
    },
    "tags": []
   },
   "outputs": [
    {
     "data": {
      "text/html": [
       "<div>\n",
       "<style scoped>\n",
       "    .dataframe tbody tr th:only-of-type {\n",
       "        vertical-align: middle;\n",
       "    }\n",
       "\n",
       "    .dataframe tbody tr th {\n",
       "        vertical-align: top;\n",
       "    }\n",
       "\n",
       "    .dataframe thead th {\n",
       "        text-align: right;\n",
       "    }\n",
       "</style>\n",
       "<table border=\"1\" class=\"dataframe\">\n",
       "  <thead>\n",
       "    <tr style=\"text-align: right;\">\n",
       "      <th></th>\n",
       "      <th>0</th>\n",
       "      <th>1</th>\n",
       "      <th>2</th>\n",
       "      <th>3</th>\n",
       "      <th>4</th>\n",
       "      <th>5</th>\n",
       "      <th>6</th>\n",
       "      <th>7</th>\n",
       "      <th>8</th>\n",
       "      <th>9</th>\n",
       "      <th>10</th>\n",
       "      <th>11</th>\n",
       "    </tr>\n",
       "  </thead>\n",
       "  <tbody>\n",
       "    <tr>\n",
       "      <th>1</th>\n",
       "      <td></td>\n",
       "      <td>3</td>\n",
       "      <td>Order Finished</td>\n",
       "      <td>Muhammed MacIntyre</td>\n",
       "      <td>2010-10-13</td>\n",
       "      <td>6</td>\n",
       "      <td>523080</td>\n",
       "      <td>0.04</td>\n",
       "      <td>20923</td>\n",
       "      <td>Office Supplies</td>\n",
       "      <td>Storage &amp; Organization</td>\n",
       "      <td></td>\n",
       "    </tr>\n",
       "    <tr>\n",
       "      <th>2</th>\n",
       "      <td></td>\n",
       "      <td>293</td>\n",
       "      <td>Order Finished</td>\n",
       "      <td>Barry French</td>\n",
       "      <td>2012-10-01</td>\n",
       "      <td>49</td>\n",
       "      <td>20246040</td>\n",
       "      <td>0.07</td>\n",
       "      <td>1417223</td>\n",
       "      <td>Office Supplies</td>\n",
       "      <td>Appliances</td>\n",
       "      <td></td>\n",
       "    </tr>\n",
       "    <tr>\n",
       "      <th>3</th>\n",
       "      <td></td>\n",
       "      <td>483</td>\n",
       "      <td>Order Finished</td>\n",
       "      <td>Clay Rozendal</td>\n",
       "      <td>2011-07-10</td>\n",
       "      <td>30</td>\n",
       "      <td>9931519</td>\n",
       "      <td>0.08</td>\n",
       "      <td>794522</td>\n",
       "      <td>Technology</td>\n",
       "      <td>Telephones and Communication</td>\n",
       "      <td></td>\n",
       "    </tr>\n",
       "    <tr>\n",
       "      <th>4</th>\n",
       "      <td></td>\n",
       "      <td>515</td>\n",
       "      <td>Order Finished</td>\n",
       "      <td>Carlos Soltero</td>\n",
       "      <td>2010-08-28</td>\n",
       "      <td>19</td>\n",
       "      <td>788540</td>\n",
       "      <td>0.08</td>\n",
       "      <td>63083</td>\n",
       "      <td>Office Supplies</td>\n",
       "      <td>Appliances</td>\n",
       "      <td></td>\n",
       "    </tr>\n",
       "    <tr>\n",
       "      <th>5</th>\n",
       "      <td></td>\n",
       "      <td>613</td>\n",
       "      <td>Order Finished</td>\n",
       "      <td>Carl Jackson</td>\n",
       "      <td>2011-06-17</td>\n",
       "      <td>12</td>\n",
       "      <td>187080</td>\n",
       "      <td>0.03</td>\n",
       "      <td>5612</td>\n",
       "      <td>Office Supplies</td>\n",
       "      <td>Binders and Binder Accessories</td>\n",
       "      <td></td>\n",
       "    </tr>\n",
       "  </tbody>\n",
       "</table>\n",
       "</div>"
      ],
      "text/plain": [
       "  0           1                  2                         3             4   \\\n",
       "1             3    Order Finished     Muhammed MacIntyre        2010-10-13    \n",
       "2           293    Order Finished     Barry French              2012-10-01    \n",
       "3           483    Order Finished     Clay Rozendal             2011-07-10    \n",
       "4           515    Order Finished     Carlos Soltero            2010-08-28    \n",
       "5           613    Order Finished     Carl Jackson              2011-06-17    \n",
       "\n",
       "                 5            6           7                 8   \\\n",
       "1                6       523080        0.04             20923    \n",
       "2               49     20246040        0.07           1417223    \n",
       "3               30      9931519        0.08            794522    \n",
       "4               19       788540        0.08             63083    \n",
       "5               12       187080        0.03              5612    \n",
       "\n",
       "                   9                                 10 11  \n",
       "1   Office Supplies     Storage & Organization              \n",
       "2   Office Supplies     Appliances                          \n",
       "3   Technology          Telephones and Communication        \n",
       "4   Office Supplies     Appliances                          \n",
       "5   Office Supplies     Binders and Binder Accessories      "
      ]
     },
     "execution_count": 9,
     "metadata": {},
     "output_type": "execute_result"
    }
   ],
   "source": [
    "df= df['Order_id'].str.split('|',11,expand=True)\n",
    "df.head()"
   ]
  },
  {
   "cell_type": "code",
   "execution_count": 10,
   "id": "dce40494",
   "metadata": {
    "execution": {
     "iopub.execute_input": "2021-10-06T23:49:03.289476Z",
     "iopub.status.busy": "2021-10-06T23:49:03.288359Z",
     "iopub.status.idle": "2021-10-06T23:49:03.295578Z",
     "shell.execute_reply": "2021-10-06T23:49:03.296157Z",
     "shell.execute_reply.started": "2021-10-06T23:48:05.639890Z"
    },
    "papermill": {
     "duration": 0.045575,
     "end_time": "2021-10-06T23:49:03.296364",
     "exception": false,
     "start_time": "2021-10-06T23:49:03.250789",
     "status": "completed"
    },
    "tags": []
   },
   "outputs": [
    {
     "data": {
      "text/plain": [
       "RangeIndex(start=0, stop=12, step=1)"
      ]
     },
     "execution_count": 10,
     "metadata": {},
     "output_type": "execute_result"
    }
   ],
   "source": [
    "df.columns"
   ]
  },
  {
   "cell_type": "markdown",
   "id": "f01bf1ed",
   "metadata": {
    "papermill": {
     "duration": 0.02052,
     "end_time": "2021-10-06T23:49:03.344383",
     "exception": false,
     "start_time": "2021-10-06T23:49:03.323863",
     "status": "completed"
    },
    "tags": []
   },
   "source": [
    "## Oh yeah it was easy \n",
    "## Now we all we need to rename the column names and drop last column and we are done"
   ]
  },
  {
   "cell_type": "code",
   "execution_count": 11,
   "id": "ac7a34c6",
   "metadata": {
    "execution": {
     "iopub.execute_input": "2021-10-06T23:49:03.401568Z",
     "iopub.status.busy": "2021-10-06T23:49:03.400544Z",
     "iopub.status.idle": "2021-10-06T23:49:03.404436Z",
     "shell.execute_reply": "2021-10-06T23:49:03.404989Z",
     "shell.execute_reply.started": "2021-10-06T23:48:05.652625Z"
    },
    "papermill": {
     "duration": 0.039584,
     "end_time": "2021-10-06T23:49:03.405217",
     "exception": false,
     "start_time": "2021-10-06T23:49:03.365633",
     "status": "completed"
    },
    "tags": []
   },
   "outputs": [
    {
     "name": "stdout",
     "output_type": "stream",
     "text": [
      "[(' order_id ', ' order_status    ', ' customer               ', ' order_date ', ' order_quantity ', ' sales     ', ' discount ', ' discount_value ', ' product_category ', ' product_sub_category           ', '')] \n",
      "\n"
     ]
    }
   ],
   "source": [
    "### Seperate the index\n",
    "index= raw.columns.str.split('|',11,expand=True)\n",
    "k= index.tolist()\n",
    "print(k,'\\n')\n",
    "# remove trailing white spaces\n",
    "'''k2 = k.strip()\n",
    "print(k2)'''; \n",
    "### I tried to clean this list only so that I could rename the columns of dataframe directly through this \n",
    "### But I failed thus copied the elements manually and substitute it in df"
   ]
  },
  {
   "cell_type": "code",
   "execution_count": 12,
   "id": "2882d573",
   "metadata": {
    "execution": {
     "iopub.execute_input": "2021-10-06T23:49:03.452281Z",
     "iopub.status.busy": "2021-10-06T23:49:03.451209Z",
     "iopub.status.idle": "2021-10-06T23:49:03.457914Z",
     "shell.execute_reply": "2021-10-06T23:49:03.458508Z",
     "shell.execute_reply.started": "2021-10-06T23:48:05.668227Z"
    },
    "papermill": {
     "duration": 0.032244,
     "end_time": "2021-10-06T23:49:03.458719",
     "exception": false,
     "start_time": "2021-10-06T23:49:03.426475",
     "status": "completed"
    },
    "tags": []
   },
   "outputs": [],
   "source": [
    "### Droping all blank columns\n",
    "df.drop({0,11}, axis=1, inplace=True)"
   ]
  },
  {
   "cell_type": "code",
   "execution_count": 13,
   "id": "b194f73d",
   "metadata": {
    "execution": {
     "iopub.execute_input": "2021-10-06T23:49:03.505755Z",
     "iopub.status.busy": "2021-10-06T23:49:03.504693Z",
     "iopub.status.idle": "2021-10-06T23:49:03.509763Z",
     "shell.execute_reply": "2021-10-06T23:49:03.510352Z",
     "shell.execute_reply.started": "2021-10-06T23:48:05.682240Z"
    },
    "papermill": {
     "duration": 0.030682,
     "end_time": "2021-10-06T23:49:03.510574",
     "exception": false,
     "start_time": "2021-10-06T23:49:03.479892",
     "status": "completed"
    },
    "tags": []
   },
   "outputs": [],
   "source": [
    "\n",
    "l=['order_id ', 'order_status', ' customer', ' order_date ', ' order_quantity ', ' sales', ' discount ', ' discount_value ', ' product_category ', ' product_sub_category']\n",
    "### upgrading column name through list [JUST MAKE SURE no of columns = elements in list]\n",
    "df.columns= l"
   ]
  },
  {
   "cell_type": "code",
   "execution_count": 14,
   "id": "ff9f76b9",
   "metadata": {
    "execution": {
     "iopub.execute_input": "2021-10-06T23:49:03.557884Z",
     "iopub.status.busy": "2021-10-06T23:49:03.556867Z",
     "iopub.status.idle": "2021-10-06T23:49:03.576883Z",
     "shell.execute_reply": "2021-10-06T23:49:03.577580Z",
     "shell.execute_reply.started": "2021-10-06T23:48:05.696885Z"
    },
    "papermill": {
     "duration": 0.045627,
     "end_time": "2021-10-06T23:49:03.577784",
     "exception": false,
     "start_time": "2021-10-06T23:49:03.532157",
     "status": "completed"
    },
    "tags": []
   },
   "outputs": [
    {
     "data": {
      "text/html": [
       "<div>\n",
       "<style scoped>\n",
       "    .dataframe tbody tr th:only-of-type {\n",
       "        vertical-align: middle;\n",
       "    }\n",
       "\n",
       "    .dataframe tbody tr th {\n",
       "        vertical-align: top;\n",
       "    }\n",
       "\n",
       "    .dataframe thead th {\n",
       "        text-align: right;\n",
       "    }\n",
       "</style>\n",
       "<table border=\"1\" class=\"dataframe\">\n",
       "  <thead>\n",
       "    <tr style=\"text-align: right;\">\n",
       "      <th></th>\n",
       "      <th>order_id</th>\n",
       "      <th>order_status</th>\n",
       "      <th>customer</th>\n",
       "      <th>order_date</th>\n",
       "      <th>order_quantity</th>\n",
       "      <th>sales</th>\n",
       "      <th>discount</th>\n",
       "      <th>discount_value</th>\n",
       "      <th>product_category</th>\n",
       "      <th>product_sub_category</th>\n",
       "    </tr>\n",
       "  </thead>\n",
       "  <tbody>\n",
       "    <tr>\n",
       "      <th>1</th>\n",
       "      <td>3</td>\n",
       "      <td>Order Finished</td>\n",
       "      <td>Muhammed MacIntyre</td>\n",
       "      <td>2010-10-13</td>\n",
       "      <td>6</td>\n",
       "      <td>523080</td>\n",
       "      <td>0.04</td>\n",
       "      <td>20923</td>\n",
       "      <td>Office Supplies</td>\n",
       "      <td>Storage &amp; Organization</td>\n",
       "    </tr>\n",
       "    <tr>\n",
       "      <th>2</th>\n",
       "      <td>293</td>\n",
       "      <td>Order Finished</td>\n",
       "      <td>Barry French</td>\n",
       "      <td>2012-10-01</td>\n",
       "      <td>49</td>\n",
       "      <td>20246040</td>\n",
       "      <td>0.07</td>\n",
       "      <td>1417223</td>\n",
       "      <td>Office Supplies</td>\n",
       "      <td>Appliances</td>\n",
       "    </tr>\n",
       "    <tr>\n",
       "      <th>3</th>\n",
       "      <td>483</td>\n",
       "      <td>Order Finished</td>\n",
       "      <td>Clay Rozendal</td>\n",
       "      <td>2011-07-10</td>\n",
       "      <td>30</td>\n",
       "      <td>9931519</td>\n",
       "      <td>0.08</td>\n",
       "      <td>794522</td>\n",
       "      <td>Technology</td>\n",
       "      <td>Telephones and Communication</td>\n",
       "    </tr>\n",
       "    <tr>\n",
       "      <th>4</th>\n",
       "      <td>515</td>\n",
       "      <td>Order Finished</td>\n",
       "      <td>Carlos Soltero</td>\n",
       "      <td>2010-08-28</td>\n",
       "      <td>19</td>\n",
       "      <td>788540</td>\n",
       "      <td>0.08</td>\n",
       "      <td>63083</td>\n",
       "      <td>Office Supplies</td>\n",
       "      <td>Appliances</td>\n",
       "    </tr>\n",
       "    <tr>\n",
       "      <th>5</th>\n",
       "      <td>613</td>\n",
       "      <td>Order Finished</td>\n",
       "      <td>Carl Jackson</td>\n",
       "      <td>2011-06-17</td>\n",
       "      <td>12</td>\n",
       "      <td>187080</td>\n",
       "      <td>0.03</td>\n",
       "      <td>5612</td>\n",
       "      <td>Office Supplies</td>\n",
       "      <td>Binders and Binder Accessories</td>\n",
       "    </tr>\n",
       "    <tr>\n",
       "      <th>...</th>\n",
       "      <td>...</td>\n",
       "      <td>...</td>\n",
       "      <td>...</td>\n",
       "      <td>...</td>\n",
       "      <td>...</td>\n",
       "      <td>...</td>\n",
       "      <td>...</td>\n",
       "      <td>...</td>\n",
       "      <td>...</td>\n",
       "      <td>...</td>\n",
       "    </tr>\n",
       "    <tr>\n",
       "      <th>5496</th>\n",
       "      <td>52706</td>\n",
       "      <td>Order Finished</td>\n",
       "      <td>Paul Prost</td>\n",
       "      <td>2012-07-09</td>\n",
       "      <td>34</td>\n",
       "      <td>2083320</td>\n",
       "      <td>0.02</td>\n",
       "      <td>41666</td>\n",
       "      <td>Office Supplies</td>\n",
       "      <td>Binders and Binder Accessories</td>\n",
       "    </tr>\n",
       "    <tr>\n",
       "      <th>5497</th>\n",
       "      <td>54279</td>\n",
       "      <td>Order Finished</td>\n",
       "      <td>Lisa DeCherney</td>\n",
       "      <td>2011-07-30</td>\n",
       "      <td>41</td>\n",
       "      <td>20142180</td>\n",
       "      <td>0.1</td>\n",
       "      <td>2014218</td>\n",
       "      <td>Technology</td>\n",
       "      <td>Office Machines</td>\n",
       "    </tr>\n",
       "    <tr>\n",
       "      <th>5498</th>\n",
       "      <td>55558</td>\n",
       "      <td>Order Finished</td>\n",
       "      <td>Philip Brown</td>\n",
       "      <td>2010-08-09</td>\n",
       "      <td>8</td>\n",
       "      <td>2588080</td>\n",
       "      <td>0.05</td>\n",
       "      <td>129404</td>\n",
       "      <td>Furniture</td>\n",
       "      <td>Bookcases</td>\n",
       "    </tr>\n",
       "    <tr>\n",
       "      <th>5499</th>\n",
       "      <td>56581</td>\n",
       "      <td>Order Finished</td>\n",
       "      <td>Lisa DeCherney</td>\n",
       "      <td>2009-02-08</td>\n",
       "      <td>20</td>\n",
       "      <td>4052020</td>\n",
       "      <td>0.1</td>\n",
       "      <td>405202</td>\n",
       "      <td>Furniture</td>\n",
       "      <td>Office Furnishings</td>\n",
       "    </tr>\n",
       "    <tr>\n",
       "      <th>5500</th>\n",
       "      <td>None</td>\n",
       "      <td>None</td>\n",
       "      <td>None</td>\n",
       "      <td>None</td>\n",
       "      <td>None</td>\n",
       "      <td>None</td>\n",
       "      <td>None</td>\n",
       "      <td>None</td>\n",
       "      <td>None</td>\n",
       "      <td>None</td>\n",
       "    </tr>\n",
       "  </tbody>\n",
       "</table>\n",
       "<p>5500 rows × 10 columns</p>\n",
       "</div>"
      ],
      "text/plain": [
       "       order_id        order_status                  customer   order_date   \\\n",
       "1             3    Order Finished     Muhammed MacIntyre        2010-10-13    \n",
       "2           293    Order Finished     Barry French              2012-10-01    \n",
       "3           483    Order Finished     Clay Rozendal             2011-07-10    \n",
       "4           515    Order Finished     Carlos Soltero            2010-08-28    \n",
       "5           613    Order Finished     Carl Jackson              2011-06-17    \n",
       "...          ...                ...                       ...           ...   \n",
       "5496      52706    Order Finished     Paul Prost                2012-07-09    \n",
       "5497      54279    Order Finished     Lisa DeCherney            2011-07-30    \n",
       "5498      55558    Order Finished     Philip Brown              2010-08-09    \n",
       "5499      56581    Order Finished     Lisa DeCherney            2009-02-08    \n",
       "5500        None               None                      None          None   \n",
       "\n",
       "       order_quantity         sales   discount    discount_value   \\\n",
       "1                   6       523080        0.04             20923    \n",
       "2                  49     20246040        0.07           1417223    \n",
       "3                  30      9931519        0.08            794522    \n",
       "4                  19       788540        0.08             63083    \n",
       "5                  12       187080        0.03              5612    \n",
       "...                ...          ...         ...               ...   \n",
       "5496               34      2083320        0.02             41666    \n",
       "5497               41     20142180         0.1           2014218    \n",
       "5498                8      2588080        0.05            129404    \n",
       "5499               20      4052020         0.1            405202    \n",
       "5500              None         None        None              None   \n",
       "\n",
       "       product_category               product_sub_category  \n",
       "1      Office Supplies     Storage & Organization           \n",
       "2      Office Supplies     Appliances                       \n",
       "3      Technology          Telephones and Communication     \n",
       "4      Office Supplies     Appliances                       \n",
       "5      Office Supplies     Binders and Binder Accessories   \n",
       "...                  ...                               ...  \n",
       "5496   Office Supplies     Binders and Binder Accessories   \n",
       "5497   Technology          Office Machines                  \n",
       "5498   Furniture           Bookcases                        \n",
       "5499   Furniture           Office Furnishings               \n",
       "5500                None                              None  \n",
       "\n",
       "[5500 rows x 10 columns]"
      ]
     },
     "execution_count": 14,
     "metadata": {},
     "output_type": "execute_result"
    }
   ],
   "source": [
    "df"
   ]
  },
  {
   "cell_type": "code",
   "execution_count": 15,
   "id": "b2afebe6",
   "metadata": {
    "execution": {
     "iopub.execute_input": "2021-10-06T23:49:03.626899Z",
     "iopub.status.busy": "2021-10-06T23:49:03.625842Z",
     "iopub.status.idle": "2021-10-06T23:49:03.684054Z",
     "shell.execute_reply": "2021-10-06T23:49:03.684635Z",
     "shell.execute_reply.started": "2021-10-06T23:48:05.725481Z"
    },
    "papermill": {
     "duration": 0.084987,
     "end_time": "2021-10-06T23:49:03.684841",
     "exception": false,
     "start_time": "2021-10-06T23:49:03.599854",
     "status": "completed"
    },
    "tags": []
   },
   "outputs": [
    {
     "data": {
      "text/html": [
       "<div>\n",
       "<style scoped>\n",
       "    .dataframe tbody tr th:only-of-type {\n",
       "        vertical-align: middle;\n",
       "    }\n",
       "\n",
       "    .dataframe tbody tr th {\n",
       "        vertical-align: top;\n",
       "    }\n",
       "\n",
       "    .dataframe thead th {\n",
       "        text-align: right;\n",
       "    }\n",
       "</style>\n",
       "<table border=\"1\" class=\"dataframe\">\n",
       "  <thead>\n",
       "    <tr style=\"text-align: right;\">\n",
       "      <th></th>\n",
       "      <th>order_id</th>\n",
       "      <th>order_status</th>\n",
       "      <th>customer</th>\n",
       "      <th>order_date</th>\n",
       "      <th>order_quantity</th>\n",
       "      <th>sales</th>\n",
       "      <th>discount</th>\n",
       "      <th>discount_value</th>\n",
       "      <th>product_category</th>\n",
       "      <th>product_sub_category</th>\n",
       "    </tr>\n",
       "  </thead>\n",
       "  <tbody>\n",
       "    <tr>\n",
       "      <th>0</th>\n",
       "      <td>3</td>\n",
       "      <td>Order Finished</td>\n",
       "      <td>Muhammed Mac Intyre</td>\n",
       "      <td>2010-10-13</td>\n",
       "      <td>6</td>\n",
       "      <td>523080</td>\n",
       "      <td>0.04</td>\n",
       "      <td>20923</td>\n",
       "      <td>Office Supplies</td>\n",
       "      <td>Storage &amp; Organization</td>\n",
       "    </tr>\n",
       "    <tr>\n",
       "      <th>1</th>\n",
       "      <td>293</td>\n",
       "      <td>Order Finished</td>\n",
       "      <td>Barry French</td>\n",
       "      <td>2012-10-01</td>\n",
       "      <td>49</td>\n",
       "      <td>20246040</td>\n",
       "      <td>0.07</td>\n",
       "      <td>1417223</td>\n",
       "      <td>Office Supplies</td>\n",
       "      <td>Appliances</td>\n",
       "    </tr>\n",
       "    <tr>\n",
       "      <th>2</th>\n",
       "      <td>483</td>\n",
       "      <td>Order Finished</td>\n",
       "      <td>Clay Rozendal</td>\n",
       "      <td>2011-07-10</td>\n",
       "      <td>30</td>\n",
       "      <td>9931519</td>\n",
       "      <td>0.08</td>\n",
       "      <td>794522</td>\n",
       "      <td>Technology</td>\n",
       "      <td>Telephones &amp; Communication</td>\n",
       "    </tr>\n",
       "    <tr>\n",
       "      <th>3</th>\n",
       "      <td>515</td>\n",
       "      <td>Order Finished</td>\n",
       "      <td>Carlos Soltero</td>\n",
       "      <td>2010-08-28</td>\n",
       "      <td>19</td>\n",
       "      <td>788540</td>\n",
       "      <td>0.08</td>\n",
       "      <td>63083</td>\n",
       "      <td>Office Supplies</td>\n",
       "      <td>Appliances</td>\n",
       "    </tr>\n",
       "    <tr>\n",
       "      <th>4</th>\n",
       "      <td>613</td>\n",
       "      <td>Order Finished</td>\n",
       "      <td>Carl Jackson</td>\n",
       "      <td>2011-06-17</td>\n",
       "      <td>12</td>\n",
       "      <td>187080</td>\n",
       "      <td>0.03</td>\n",
       "      <td>5612</td>\n",
       "      <td>Office Supplies</td>\n",
       "      <td>Binders &amp; Binder Accessories</td>\n",
       "    </tr>\n",
       "    <tr>\n",
       "      <th>...</th>\n",
       "      <td>...</td>\n",
       "      <td>...</td>\n",
       "      <td>...</td>\n",
       "      <td>...</td>\n",
       "      <td>...</td>\n",
       "      <td>...</td>\n",
       "      <td>...</td>\n",
       "      <td>...</td>\n",
       "      <td>...</td>\n",
       "      <td>...</td>\n",
       "    </tr>\n",
       "    <tr>\n",
       "      <th>5494</th>\n",
       "      <td>47360</td>\n",
       "      <td>Order Finished</td>\n",
       "      <td>Philip Brown</td>\n",
       "      <td>2010-10-08</td>\n",
       "      <td>25</td>\n",
       "      <td>4401280</td>\n",
       "      <td>0.05</td>\n",
       "      <td>220064</td>\n",
       "      <td>Furniture</td>\n",
       "      <td>Chairs &amp; Chairmats</td>\n",
       "    </tr>\n",
       "    <tr>\n",
       "      <th>5495</th>\n",
       "      <td>52706</td>\n",
       "      <td>Order Finished</td>\n",
       "      <td>Paul Prost</td>\n",
       "      <td>2012-07-09</td>\n",
       "      <td>34</td>\n",
       "      <td>2083320</td>\n",
       "      <td>0.02</td>\n",
       "      <td>41666</td>\n",
       "      <td>Office Supplies</td>\n",
       "      <td>Binders &amp; Binder Accessories</td>\n",
       "    </tr>\n",
       "    <tr>\n",
       "      <th>5496</th>\n",
       "      <td>54279</td>\n",
       "      <td>Order Finished</td>\n",
       "      <td>Lisa De Cherney</td>\n",
       "      <td>2011-07-30</td>\n",
       "      <td>41</td>\n",
       "      <td>20142180</td>\n",
       "      <td>0.10</td>\n",
       "      <td>2014218</td>\n",
       "      <td>Technology</td>\n",
       "      <td>Office Machines</td>\n",
       "    </tr>\n",
       "    <tr>\n",
       "      <th>5497</th>\n",
       "      <td>55558</td>\n",
       "      <td>Order Finished</td>\n",
       "      <td>Philip Brown</td>\n",
       "      <td>2010-08-09</td>\n",
       "      <td>8</td>\n",
       "      <td>2588080</td>\n",
       "      <td>0.05</td>\n",
       "      <td>129404</td>\n",
       "      <td>Furniture</td>\n",
       "      <td>Bookcases</td>\n",
       "    </tr>\n",
       "    <tr>\n",
       "      <th>5498</th>\n",
       "      <td>56581</td>\n",
       "      <td>Order Finished</td>\n",
       "      <td>Lisa De Cherney</td>\n",
       "      <td>2009-02-08</td>\n",
       "      <td>20</td>\n",
       "      <td>4052020</td>\n",
       "      <td>0.10</td>\n",
       "      <td>405202</td>\n",
       "      <td>Furniture</td>\n",
       "      <td>Office Furnishings</td>\n",
       "    </tr>\n",
       "  </tbody>\n",
       "</table>\n",
       "<p>5499 rows × 10 columns</p>\n",
       "</div>"
      ],
      "text/plain": [
       "      order_id    order_status             customer  order_date  \\\n",
       "0            3  Order Finished  Muhammed Mac Intyre  2010-10-13   \n",
       "1          293  Order Finished         Barry French  2012-10-01   \n",
       "2          483  Order Finished        Clay Rozendal  2011-07-10   \n",
       "3          515  Order Finished       Carlos Soltero  2010-08-28   \n",
       "4          613  Order Finished         Carl Jackson  2011-06-17   \n",
       "...        ...             ...                  ...         ...   \n",
       "5494     47360  Order Finished         Philip Brown  2010-10-08   \n",
       "5495     52706  Order Finished           Paul Prost  2012-07-09   \n",
       "5496     54279  Order Finished      Lisa De Cherney  2011-07-30   \n",
       "5497     55558  Order Finished         Philip Brown  2010-08-09   \n",
       "5498     56581  Order Finished      Lisa De Cherney  2009-02-08   \n",
       "\n",
       "      order_quantity     sales  discount  discount_value product_category  \\\n",
       "0                  6    523080      0.04           20923  Office Supplies   \n",
       "1                 49  20246040      0.07         1417223  Office Supplies   \n",
       "2                 30   9931519      0.08          794522       Technology   \n",
       "3                 19    788540      0.08           63083  Office Supplies   \n",
       "4                 12    187080      0.03            5612  Office Supplies   \n",
       "...              ...       ...       ...             ...              ...   \n",
       "5494              25   4401280      0.05          220064        Furniture   \n",
       "5495              34   2083320      0.02           41666  Office Supplies   \n",
       "5496              41  20142180      0.10         2014218       Technology   \n",
       "5497               8   2588080      0.05          129404        Furniture   \n",
       "5498              20   4052020      0.10          405202        Furniture   \n",
       "\n",
       "              product_sub_category  \n",
       "0           Storage & Organization  \n",
       "1                       Appliances  \n",
       "2       Telephones & Communication  \n",
       "3                       Appliances  \n",
       "4     Binders & Binder Accessories  \n",
       "...                            ...  \n",
       "5494            Chairs & Chairmats  \n",
       "5495  Binders & Binder Accessories  \n",
       "5496               Office Machines  \n",
       "5497                     Bookcases  \n",
       "5498            Office Furnishings  \n",
       "\n",
       "[5499 rows x 10 columns]"
      ]
     },
     "execution_count": 15,
     "metadata": {},
     "output_type": "execute_result"
    }
   ],
   "source": [
    "# Our Desired output was this \n",
    "df1= pd.read_csv('../input/sales-performance-report-dqlab-store/clean_data.csv')\n",
    "df1"
   ]
  },
  {
   "cell_type": "markdown",
   "id": "2075a186",
   "metadata": {
    "execution": {
     "iopub.status.busy": "2021-10-06T23:11:39.775458Z",
     "iopub.status.idle": "2021-10-06T23:11:39.775970Z",
     "shell.execute_reply": "2021-10-06T23:11:39.775699Z",
     "shell.execute_reply.started": "2021-10-06T23:11:39.775675Z"
    },
    "papermill": {
     "duration": 0.022302,
     "end_time": "2021-10-06T23:49:03.729807",
     "exception": false,
     "start_time": "2021-10-06T23:49:03.707505",
     "status": "completed"
    },
    "tags": []
   },
   "source": [
    "# Further we can **Automate column name though list** and also we can change 'order_date' dtype to datetime from obj"
   ]
  }
 ],
 "metadata": {
  "kernelspec": {
   "display_name": "Python 3",
   "language": "python",
   "name": "python3"
  },
  "language_info": {
   "codemirror_mode": {
    "name": "ipython",
    "version": 3
   },
   "file_extension": ".py",
   "mimetype": "text/x-python",
   "name": "python",
   "nbconvert_exporter": "python",
   "pygments_lexer": "ipython3",
   "version": "3.7.10"
  },
  "papermill": {
   "default_parameters": {},
   "duration": 11.827366,
   "end_time": "2021-10-06T23:49:04.920505",
   "environment_variables": {},
   "exception": null,
   "input_path": "__notebook__.ipynb",
   "output_path": "__notebook__.ipynb",
   "parameters": {},
   "start_time": "2021-10-06T23:48:53.093139",
   "version": "2.3.3"
  }
 },
 "nbformat": 4,
 "nbformat_minor": 5
}
